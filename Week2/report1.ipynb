{
 "cells": [
  {
   "cell_type": "code",
   "execution_count": 1,
   "metadata": {
    "collapsed": false
   },
   "outputs": [
    {
     "name": "stdout",
     "output_type": "stream",
     "text": [
      "Using matplotlib backend: MacOSX\n",
      "Populating the interactive namespace from numpy and matplotlib\n"
     ]
    }
   ],
   "source": [
    "import math\n",
    "import numpy as np\n",
    "%pylab --no-import-all\n",
    "#from pylab import *"
   ]
  },
  {
   "cell_type": "code",
   "execution_count": 4,
   "metadata": {
    "collapsed": false
   },
   "outputs": [],
   "source": [
    "def is_Square(num):\n",
    "    \"\"\"Returns True if num is a perfect square, A^2 + B^2 = C^2\"\"\"\n",
    "    from math import sqrt\n",
    "    if num == int(math.sqrt(num))*int(math.sqrt(num)): \n",
    "        return True\n",
    "    else:\n",
    "        return False"
   ]
  },
  {
   "cell_type": "code",
   "execution_count": 3,
   "metadata": {
    "collapsed": false
   },
   "outputs": [],
   "source": [
    "def myGCD(a,b): \n",
    "    \"\"\"Returns Greatest Common Divisor between two numbers a,b\"\"\"\n",
    "    c = a%b\n",
    "    while c > 0:\n",
    "        #print a,b,r\n",
    "        a,b,c = b,c,b%c \n",
    "    return b "
   ]
  },
  {
   "cell_type": "code",
   "execution_count": 2,
   "metadata": {
    "collapsed": false
   },
   "outputs": [],
   "source": [
    "def prime_Trips2(n): #13ms --> 100\n",
    "    listA =[]        #1.1s --> 1000\n",
    "    listB =[]        #26.5s --> 5000\n",
    "    for a in xrange(1,n):\n",
    "        a2 = a*a\n",
    "        for b in xrange(a+1,n): #b>a\n",
    "            c2 = a2 + b*b\n",
    "            c = int(math.sqrt(a2 + b*b))\n",
    "            if is_Square(c2) and myGCD(a,b) == 1:\n",
    "                    listA.append(a)\n",
    "                    listB.append(b)\n",
    "                    #print (a,b,c)\n",
    "    return zip(listA,listB)"
   ]
  },
  {
   "cell_type": "code",
   "execution_count": 10,
   "metadata": {
    "collapsed": true
   },
   "outputs": [],
   "source": [
    "#All pythagorean triples \n",
    "def trips(n): \n",
    "    listA =[]        \n",
    "    listB =[]\n",
    "    listC = []\n",
    "    for a in xrange(1,n):\n",
    "        a2 = a*a\n",
    "        for b in xrange(a+1,n): #b>a\n",
    "            c2 = a2 + b*b\n",
    "            c = int(math.sqrt(a2 + b*b))\n",
    "            if is_Square(c2):\n",
    "                    listA.append(a)\n",
    "                    listB.append(b)\n",
    "                    listC.append(c)\n",
    "                    #print (a,b,c)\n",
    "    return zip(listA,listB)"
   ]
  },
  {
   "cell_type": "code",
   "execution_count": 5,
   "metadata": {
    "collapsed": false
   },
   "outputs": [
    {
     "name": "stdout",
     "output_type": "stream",
     "text": [
      "PPT up to 5000 complete\n"
     ]
    }
   ],
   "source": [
    "coords_5000 = prime_Trips2(5000) \n",
    "print 'PPT up to 5000 complete'"
   ]
  },
  {
   "cell_type": "code",
   "execution_count": 12,
   "metadata": {
    "collapsed": true
   },
   "outputs": [],
   "source": [
    "coords_5000all = trips(5000)\n",
    "print 'All PT up to 5000 complete'"
   ]
  },
  {
   "cell_type": "code",
   "execution_count": 23,
   "metadata": {
    "collapsed": false
   },
   "outputs": [
    {
     "name": "stdout",
     "output_type": "stream",
     "text": [
      "890 Primative Triples found for a,b < 5000\n"
     ]
    }
   ],
   "source": [
    "print len(coords_5000),'Primative Triples found for a,b < 5000', "
   ]
  },
  {
   "cell_type": "code",
   "execution_count": 6,
   "metadata": {
    "collapsed": false
   },
   "outputs": [
    {
     "ename": "NameError",
     "evalue": "name 'figure' is not defined",
     "output_type": "error",
     "traceback": [
      "\u001b[0;31m---------------------------------------------------------------------------\u001b[0m",
      "\u001b[0;31mNameError\u001b[0m                                 Traceback (most recent call last)",
      "\u001b[0;32m<ipython-input-6-2d8bc1f43507>\u001b[0m in \u001b[0;36m<module>\u001b[0;34m()\u001b[0m\n\u001b[1;32m      1\u001b[0m \u001b[0;31m# Plot primative triples.\u001b[0m\u001b[0;34m\u001b[0m\u001b[0;34m\u001b[0m\u001b[0m\n\u001b[1;32m      2\u001b[0m \u001b[0mx\u001b[0m\u001b[0;34m,\u001b[0m\u001b[0my\u001b[0m \u001b[0;34m=\u001b[0m \u001b[0mzip\u001b[0m\u001b[0;34m(\u001b[0m\u001b[0;34m*\u001b[0m\u001b[0mcoords_5000\u001b[0m\u001b[0;34m)\u001b[0m\u001b[0;34m\u001b[0m\u001b[0m\n\u001b[0;32m----> 3\u001b[0;31m \u001b[0mfigure\u001b[0m\u001b[0;34m(\u001b[0m\u001b[0;36m1\u001b[0m\u001b[0;34m)\u001b[0m\u001b[0;34m\u001b[0m\u001b[0m\n\u001b[0m\u001b[1;32m      4\u001b[0m \u001b[0mplot\u001b[0m\u001b[0;34m(\u001b[0m\u001b[0mx\u001b[0m\u001b[0;34m,\u001b[0m\u001b[0my\u001b[0m\u001b[0;34m,\u001b[0m\u001b[0;34m'r.'\u001b[0m\u001b[0;34m)\u001b[0m\u001b[0;34m\u001b[0m\u001b[0m\n\u001b[1;32m      5\u001b[0m \u001b[0mxlabel\u001b[0m\u001b[0;34m(\u001b[0m\u001b[0;34m'a'\u001b[0m\u001b[0;34m)\u001b[0m\u001b[0;34m\u001b[0m\u001b[0m\n",
      "\u001b[0;31mNameError\u001b[0m: name 'figure' is not defined"
     ]
    }
   ],
   "source": [
    "# Plot primative triples. \n",
    "x,y = zip(*coords_5000)\n",
    "figure(1)\n",
    "plot(x,y,'r.')\n",
    "xlabel('a')\n",
    "ylabel('b')\n",
    "title('Primitive Pythagorean Triples (a,b <= 5000)')\n",
    "# Plot symmetric primitive triples in blue.\n",
    "y,x = zip(*coords_5000)\n",
    "plot(x,y,'b.') \n",
    "#show()"
   ]
  },
  {
   "cell_type": "code",
   "execution_count": 32,
   "metadata": {
    "collapsed": false
   },
   "outputs": [
    {
     "data": {
      "text/plain": [
       "<matplotlib.text.Text at 0x10acbf6d0>"
      ]
     },
     "execution_count": 32,
     "metadata": {},
     "output_type": "execute_result"
    }
   ],
   "source": [
    "#Plot all Pythagorean Triples (a,b <= 5000)\n",
    "figure(2)\n",
    "x,y = zip(*coords_5000all)\n",
    "plt.plot(x,y,'k.',ms=2)\n",
    "y,x = zip(*coords_5000all)\n",
    "plot(x,y,'k.',ms=2)\n",
    "xlabel('a')\n",
    "ylabel('b')\n",
    "title('All Pythagorean Triples (a,b <= 5000)')\n",
    "#show() "
   ]
  },
  {
   "cell_type": "code",
   "execution_count": 25,
   "metadata": {
    "collapsed": false
   },
   "outputs": [
    {
     "name": "stdout",
     "output_type": "stream",
     "text": [
      "Object `eulerlib` not found.\n"
     ]
    }
   ],
   "source": [
    "from eulerlib import *\n",
    "?eulerlib\n"
   ]
  },
  {
   "cell_type": "code",
   "execution_count": 33,
   "metadata": {
    "collapsed": false
   },
   "outputs": [
    {
     "name": "stdout",
     "output_type": "stream",
     "text": [
      "PPT up to 5000 complete\n",
      "All PT up to 5000 complete\n",
      "890 Primative Triples found for a,b < 5000\n"
     ]
    }
   ],
   "source": [
    "%run report1.py"
   ]
  },
  {
   "cell_type": "markdown",
   "metadata": {
    "collapsed": true
   },
   "source": [
    "## Euclid's formula for PPT \n",
    "\n",
    "$ a = m^2 - n^2$\n",
    "$ b = 2mn$\n",
    "$c = m^2 - n^2$\n",
    "\n",
    "####m,n integers\n",
    "$m >n$,\n",
    "$m > 0, n>0$\n",
    "####gcd(m,n) = 1 \n",
    "\n",
    "$a^2 + b^2 = (m^2-n^2)^2 + (2mn)^2$"
   ]
  },
  {
   "cell_type": "markdown",
   "metadata": {},
   "source": [
    "###Fix m\n",
    "\n",
    "$n = b/2m$\n",
    "$a = m^2 - (b/2m)^2$"
   ]
  },
  {
   "cell_type": "code",
   "execution_count": null,
   "metadata": {
    "collapsed": true
   },
   "outputs": [],
   "source": []
  }
 ],
 "metadata": {
  "kernelspec": {
   "display_name": "Python 2",
   "language": "python",
   "name": "python2"
  },
  "language_info": {
   "codemirror_mode": {
    "name": "ipython",
    "version": 2
   },
   "file_extension": ".py",
   "mimetype": "text/x-python",
   "name": "python",
   "nbconvert_exporter": "python",
   "pygments_lexer": "ipython2",
   "version": "2.7.9"
  }
 },
 "nbformat": 4,
 "nbformat_minor": 0
}
