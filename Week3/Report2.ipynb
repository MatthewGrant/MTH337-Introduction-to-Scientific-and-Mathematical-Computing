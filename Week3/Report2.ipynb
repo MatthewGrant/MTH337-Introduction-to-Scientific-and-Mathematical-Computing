{
 "cells": [
  {
   "cell_type": "markdown",
   "metadata": {},
   "source": [
    "## MTH 337 \n",
    "###Report 2: C-numbers\n"
   ]
  },
  {
   "cell_type": "markdown",
   "metadata": {},
   "source": [
    "Find C-numbers: integer n > 1 such that $b^n$ mod $n = b$ for all integers $1<b<n$\n"
   ]
  },
  {
   "cell_type": "code",
   "execution_count": 6,
   "metadata": {
    "collapsed": false
   },
   "outputs": [
    {
     "name": "stdout",
     "output_type": "stream",
     "text": [
      "Using matplotlib backend: MacOSX\n",
      "Populating the interactive namespace from numpy and matplotlib\n",
      "C-numbers up to 100,000\n"
     ]
    }
   ],
   "source": [
    "import numpy as np\n",
    "print 'C-numbers up to 100,000'"
   ]
  },
  {
   "cell_type": "code",
   "execution_count": 5,
   "metadata": {
    "collapsed": true
   },
   "outputs": [],
   "source": [
    "# Method to determine primality through trial division \n",
    "def is_prime(n): \n",
    "    import math\n",
    "    factor = 2\n",
    "    isPrime = True\n",
    "    upperBounds = math.sqrt(n)\n",
    "    while factor <= upperBounds: \n",
    "        if n%factor == 0:\n",
    "            isPrime = False\n",
    "            break\n",
    "        factor += 1\n",
    "    return isPrime "
   ]
  },
  {
   "cell_type": "code",
   "execution_count": 43,
   "metadata": {
    "collapsed": false
   },
   "outputs": [],
   "source": [
    "def testFermat(p,b):\n",
    "    #test using fermat theorm  \n",
    "    return pow(b,p,p) == b \n",
    "    \n",
    "def fermat(p,b): \n",
    "    \"\"\" function fermat(p,n) tests whether a number is prime based on Fermat's little theorem\"\"\"\n",
    "    isFermatPrime = True\n",
    "    for b in xrange(2,p): # iterate through b, 1 < b < p, checking with testFermat function \n",
    "        if not testFermat(p,b):\n",
    "            isFermatPrime = False #not prime\n",
    "            break\n",
    "        else:\n",
    "            isFermatPrime = True # is prime \n",
    "            b += 1\n",
    "    return isFermatPrime        "
   ]
  },
  {
   "cell_type": "code",
   "execution_count": 44,
   "metadata": {
    "collapsed": false,
    "scrolled": true
   },
   "outputs": [
    {
     "name": "stdout",
     "output_type": "stream",
     "text": [
      "c-numbers using list of primes\n",
      "561\n",
      "1105\n",
      "1729\n",
      "2465\n",
      "2821\n",
      "6601\n",
      "8911\n",
      "10585\n",
      "15841\n",
      "29341\n",
      "41041\n",
      "46657\n",
      "52633\n",
      "62745\n",
      "63973\n",
      "75361\n"
     ]
    }
   ],
   "source": [
    "print \"c-numbers using list of primes\"\n",
    "for i in xrange(10,100000):\n",
    "    if not is_prime(i) and fermat(i,2):\n",
    "        print i"
   ]
  },
  {
   "cell_type": "code",
   "execution_count": 21,
   "metadata": {
    "collapsed": true
   },
   "outputs": [],
   "source": [
    "# Code taken from Python Cookbook \n",
    "# http://archive.oreilly.com/pub/a/python/excerpt/pythonckbk_chap1/index1.html?page=last\n",
    "import itertools\n",
    "def erat2( ):\n",
    "    D = {  }\n",
    "    yield 2\n",
    "    for q in itertools.islice(itertools.count(3), 0, None, 2):\n",
    "        p = D.pop(q, None)\n",
    "        if p is None:\n",
    "            D[q*q] = q\n",
    "            yield q\n",
    "        else:\n",
    "            x = p + q\n",
    "            while x in D or not (x&1):\n",
    "                x += p\n",
    "            D[x] = p\n",
    "            \n",
    "def get_primes_erat(n):\n",
    "    return list(itertools.takewhile(lambda p: p<n, erat2()))"
   ]
  },
  {
   "cell_type": "code",
   "execution_count": 22,
   "metadata": {
    "collapsed": false
   },
   "outputs": [
    {
     "name": "stdout",
     "output_type": "stream",
     "text": [
      "list of primes up to 100000: 9592\n"
     ]
    }
   ],
   "source": [
    "primes = get_primes_erat(100000)\n",
    "print \"list of primes up to 100000:\" ,len(primes)"
   ]
  },
  {
   "cell_type": "code",
   "execution_count": 46,
   "metadata": {
    "collapsed": false
   },
   "outputs": [
    {
     "name": "stdout",
     "output_type": "stream",
     "text": [
      "c-numbers using list of primes\n",
      "561\n",
      "1105\n",
      "1729\n",
      "2465\n",
      "2821\n",
      "6601\n",
      "8911\n",
      "10585\n",
      "15841\n",
      "29341\n",
      "41041\n",
      "46657\n",
      "52633\n",
      "62745\n",
      "63973\n",
      "75361\n",
      "c-numbers using list of primes\n",
      "561\n",
      "1105\n",
      "1729\n",
      "2465\n",
      "2821\n",
      "6601\n",
      "8911\n",
      "10585\n",
      "15841\n",
      "29341\n",
      "41041\n",
      "46657\n",
      "52633\n",
      "62745\n",
      "63973\n",
      "75361\n",
      "c-numbers using list of primes\n",
      "561\n",
      "1105\n",
      "1729\n",
      "2465\n",
      "2821\n",
      "6601\n",
      "8911\n",
      "10585\n",
      "15841\n",
      "29341\n",
      "41041\n",
      "46657\n",
      "52633\n",
      "62745\n",
      "63973\n",
      "75361\n",
      "c-numbers using list of primes\n",
      "561\n",
      "1105\n",
      "1729\n",
      "2465\n",
      "2821\n",
      "6601\n",
      "8911\n",
      "10585\n",
      "15841\n",
      "29341\n",
      "41041\n",
      "46657\n",
      "52633\n",
      "62745\n",
      "63973\n",
      "75361\n",
      "1 loops, best of 3: 14.6 s per loop\n"
     ]
    }
   ],
   "source": [
    "%%timeit\n",
    "print \"c-numbers using list of primes\"\n",
    "for i in xrange(10,100000):\n",
    "    if i not in primes and fermat(i,2):\n",
    "        print i"
   ]
  },
  {
   "cell_type": "code",
   "execution_count": 47,
   "metadata": {
    "collapsed": false
   },
   "outputs": [
    {
     "name": "stdout",
     "output_type": "stream",
     "text": [
      "C-numbers up to 100,000\n",
      "c-numbers using list of primes\n",
      "561\n",
      "1105\n",
      "1729\n",
      "2465\n",
      "2821\n",
      "6601\n",
      "8911\n",
      "10585\n",
      "15841\n",
      "29341\n",
      "41041\n",
      "46657\n",
      "52633\n",
      "62745\n",
      "63973\n",
      "75361\n",
      "list of primes up to 100000: 9592\n",
      "c-numbers using list of primes\n",
      "561\n",
      "1105\n",
      "1729\n",
      "2465\n",
      "2821\n",
      "6601\n",
      "8911\n",
      "10585\n",
      "15841\n",
      "29341\n",
      "41041\n",
      "46657\n",
      "52633\n",
      "62745\n",
      "63973\n",
      "75361\n"
     ]
    }
   ],
   "source": [
    "%run Report2.py"
   ]
  },
  {
   "cell_type": "code",
   "execution_count": null,
   "metadata": {
    "collapsed": true
   },
   "outputs": [],
   "source": []
  }
 ],
 "metadata": {
  "kernelspec": {
   "display_name": "Python 2",
   "language": "python",
   "name": "python2"
  },
  "language_info": {
   "codemirror_mode": {
    "name": "ipython",
    "version": 2
   },
   "file_extension": ".py",
   "mimetype": "text/x-python",
   "name": "python",
   "nbconvert_exporter": "python",
   "pygments_lexer": "ipython2",
   "version": "2.7.9"
  }
 },
 "nbformat": 4,
 "nbformat_minor": 0
}
